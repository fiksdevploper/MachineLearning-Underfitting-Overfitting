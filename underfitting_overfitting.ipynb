{
  "nbformat": 4,
  "nbformat_minor": 0,
  "metadata": {
    "colab": {
      "provenance": [],
      "authorship_tag": "ABX9TyNcF9WDwMrF3MUW3vmGoXlJ",
      "include_colab_link": true
    },
    "kernelspec": {
      "name": "python3",
      "display_name": "Python 3"
    },
    "language_info": {
      "name": "python"
    }
  },
  "cells": [
    {
      "cell_type": "markdown",
      "metadata": {
        "id": "view-in-github",
        "colab_type": "text"
      },
      "source": [
        "<a href=\"https://colab.research.google.com/github/fiksdevploper/MachineLearning-Underfitting-Overfitting/blob/main/underfitting_overfitting.ipynb\" target=\"_parent\"><img src=\"https://colab.research.google.com/assets/colab-badge.svg\" alt=\"Open In Colab\"/></a>"
      ]
    },
    {
      "cell_type": "markdown",
      "source": [
        "# **Overfitting**"
      ],
      "metadata": {
        "id": "3aff314IRg4T"
      }
    },
    {
      "cell_type": "markdown",
      "source": [
        "**Import Liblary**"
      ],
      "metadata": {
        "id": "oYL418T7G_gP"
      }
    },
    {
      "cell_type": "code",
      "execution_count": 1,
      "metadata": {
        "id": "0VqyTY1fF-z6"
      },
      "outputs": [],
      "source": [
        "import numpy as np\n",
        "import pandas as pd\n",
        "from sklearn.datasets import fetch_california_housing\n",
        "from sklearn.model_selection import train_test_split, cross_val_score, learning_curve\n",
        "from sklearn.preprocessing import StandardScaler\n",
        "from sklearn.tree import DecisionTreeRegressor\n",
        "from sklearn.metrics import mean_squared_error\n",
        "import matplotlib.pyplot as plt"
      ]
    },
    {
      "cell_type": "markdown",
      "source": [
        "**Memuat Dataset untuk Kasus Overfitting**"
      ],
      "metadata": {
        "id": "ner-aFarHLCl"
      }
    },
    {
      "cell_type": "code",
      "source": [
        "# Load dataset California Housing\n",
        "data = fetch_california_housing()\n",
        "X = pd.DataFrame(data.data, columns=data.feature_names)\n",
        "y = pd.Series(data.target)\n",
        "\n",
        "# Normalisasi data\n",
        "scaler = StandardScaler()\n",
        "X_scaled = scaler.fit_transform(X)\n",
        "\n",
        "# Membagi dataset menjadi data latih dan data uji\n",
        "X_train, X_test, y_train, y_test = train_test_split(X_scaled, y, test_size=0.3, random_state=42)"
      ],
      "metadata": {
        "id": "F0ckUlumHCqb"
      },
      "execution_count": 2,
      "outputs": []
    },
    {
      "cell_type": "code",
      "source": [
        "# Inisialisasi model Decision Tree Regressor\n",
        "model = DecisionTreeRegressor(max_depth=50, random_state=42)\n",
        "\n",
        "# Melatih model dengan data latih\n",
        "model.fit(X_train, y_train)\n",
        "\n",
        "# Membuat prediksi untuk data latih dan data uji\n",
        "y_train_pred = model.predict(X_train)\n",
        "y_test_pred = model.predict(X_test)"
      ],
      "metadata": {
        "id": "1gqzm5C6H_Wd"
      },
      "execution_count": 3,
      "outputs": []
    },
    {
      "cell_type": "markdown",
      "source": [
        "**Mendeteksi Overfitting**"
      ],
      "metadata": {
        "id": "xyFDQHiVI375"
      }
    },
    {
      "cell_type": "code",
      "source": [
        "# Menghitung Mean Squared Error (MSE) untuk data latih dan data uji\n",
        "train_mse = mean_squared_error(y_train, y_train_pred)\n",
        "test_mse = mean_squared_error(y_test, y_test_pred)\n",
        "\n",
        "# Menampilkan hasil MSE\n",
        "print(f'Training MSE: {train_mse}')\n",
        "print(f'Test MSE: {test_mse}')"
      ],
      "metadata": {
        "colab": {
          "base_uri": "https://localhost:8080/"
        },
        "id": "rZ4CDtPqI59T",
        "outputId": "214bca97-3e88-459d-fb66-b490c2e3a6f7"
      },
      "execution_count": 4,
      "outputs": [
        {
          "output_type": "stream",
          "name": "stdout",
          "text": [
            "Training MSE: 9.904697258622977e-32\n",
            "Test MSE: 0.5265256772490148\n"
          ]
        }
      ]
    },
    {
      "cell_type": "code",
      "source": [
        "from sklearn.model_selection import learning_curve\n",
        "import matplotlib.pyplot as plt\n",
        "\n",
        "# Menghitung learning curve\n",
        "train_sizes, train_scores, test_scores = learning_curve(model, X_train, y_train, cv=5, scoring='neg_mean_squared_error')\n",
        "\n",
        "# Menghiting rata-rata dan standar deviasi\n",
        "train_mean = -np.mean(train_scores, axis=1)\n",
        "test_mean = -np.mean(test_scores, axis=1)\n",
        "\n",
        "# Plot learning curve\n",
        "plt.plot(train_sizes, train_mean, 'o-', color='blue', label=\"Training error\")\n",
        "plt.plot(train_sizes, test_mean, 'o-', color='green', label=\"Cross-valodation error\")\n",
        "plt.title(\"Learning Curve\")\n",
        "plt.xlabel(\"Training Set Size\")\n",
        "plt.ylabel(\"MSE\")\n",
        "plt.legend()\n",
        "plt.show()"
      ],
      "metadata": {
        "colab": {
          "base_uri": "https://localhost:8080/",
          "height": 0
        },
        "id": "G9hNX2yaKWay",
        "outputId": "d571992d-6574-43da-fe65-598d6ca004df"
      },
      "execution_count": 5,
      "outputs": [
        {
          "output_type": "display_data",
          "data": {
            "text/plain": [
              "<Figure size 640x480 with 1 Axes>"
            ],
            "image/png": "[encoded data removed]"
          },
          "metadata": {}
        }
      ]
    },
    {
      "cell_type": "markdown",
      "source": [
        "**Mengatasi Overfitting**\n",
        "# Cross Validation"
      ],
      "metadata": {
        "id": "z98rgkW-Myov"
      }
    },
    {
      "cell_type": "code",
      "source": [
        "from sklearn.model_selection import cross_val_score\n",
        "\n",
        "# Menggunakan cross-validation dengan 5 fold\n",
        "cross_val_scores = cross_val_score(model, X_train, y_train, cv=5, scoring='neg_mean_squared_error')\n",
        "\n",
        "# Menampilkan hasil cross-validation\n",
        "print(f'Cross-validation scores MSE: {-cross_val_scores.mean()}')"
      ],
      "metadata": {
        "colab": {
          "base_uri": "https://localhost:8080/"
        },
        "id": "wsTcETbKLArt",
        "outputId": "818932f5-81d7-4ed8-e5c6-6c8ba9b84496"
      },
      "execution_count": null,
      "outputs": [
        {
          "output_type": "stream",
          "name": "stdout",
          "text": [
            "Cross-validation scores MSE: 0.5562691658603186\n"
          ]
        }
      ]
    },
    {
      "cell_type": "markdown",
      "source": [
        "# Regularization (Max Depth, Min Samples Split, Min Samples Leaf)"
      ],
      "metadata": {
        "id": "x7LSpHOhOeQU"
      }
    },
    {
      "cell_type": "code",
      "source": [
        "# Membuat model Decision Tree dengan kedalaman yang lebih kecil\n",
        "model_reg = DecisionTreeRegressor(max_depth=5, random_state=42)\n",
        "model_reg.fit(X_train, y_train)\n",
        "\n",
        "# Evaluasi pada data latih dan uji\n",
        "y_train_pred_reg = model_reg.predict(X_train)\n",
        "y_test_pred_reg = model_reg.predict(X_test)\n",
        "\n",
        "# Hitung MSE\n",
        "y_train_pred_reg = mean_squared_error(y_train, y_train_pred_reg)\n",
        "y_test_pred_reg = mean_squared_error(y_test, y_test_pred_reg)\n",
        "\n",
        "# Menampilkan hasil\n",
        "print(f'Training MSE: {y_train_pred_reg}')\n",
        "print(f'Test MSE: {y_test_pred_reg}')"
      ],
      "metadata": {
        "colab": {
          "base_uri": "https://localhost:8080/"
        },
        "id": "Z1Ve0kVVObVT",
        "outputId": "d604a832-34be-419a-afa3-f5b515253043"
      },
      "execution_count": null,
      "outputs": [
        {
          "output_type": "stream",
          "name": "stdout",
          "text": [
            "Training MSE: 0.4928096322147045\n",
            "Test MSE: 0.5210801561811793\n"
          ]
        }
      ]
    },
    {
      "cell_type": "markdown",
      "source": [
        "# Pruning (Pruning Manual pada Kedalaman Pohon)"
      ],
      "metadata": {
        "id": "nkNu75Q9P7Yq"
      }
    },
    {
      "cell_type": "code",
      "source": [
        "# Menggunakan ccp_alpha untuk pruning (Cost Complexity Pruning)\n",
        "path = model.cost_complexity_pruning_path(X_train, y_train)\n",
        "ccp_alphas = path.ccp_alphas\n",
        "\n",
        "# Melatih model denga pruning\n",
        "model_pruned = DecisionTreeRegressor(random_state=42, ccp_alpha=ccp_alphas[-2])\n",
        "model_pruned.fit(X_train, y_train)\n",
        "\n",
        "# Membuat prediksi\n",
        "y_train_pred_pruned = model_pruned.predict(X_train)\n",
        "y_test_pred_pruned = model_pruned.predict(X_test)\n",
        "\n",
        "# Menghitung MSE\n",
        "train_mse_pruned = mean_squared_error(y_train, y_train_pred_pruned)\n",
        "test_mse_pruned = mean_squared_error(y_test, y_test_pred_pruned)\n",
        "\n",
        "print(f'Pruned Model Training MSE: {train_mse_pruned}')\n",
        "print(f'Pruned Model Test MSE: {test_mse_pruned}')"
      ],
      "metadata": {
        "colab": {
          "base_uri": "https://localhost:8080/"
        },
        "id": "pzxu5xsyP0Ud",
        "outputId": "abbaccb2-afbd-4d5b-a456-88c69963364f"
      },
      "execution_count": null,
      "outputs": [
        {
          "output_type": "stream",
          "name": "stdout",
          "text": [
            "Pruned Model Training MSE: 0.9189620181001872\n",
            "Pruned Model Test MSE: 0.9194598144703808\n"
          ]
        }
      ]
    },
    {
      "cell_type": "markdown",
      "source": [
        "# Data Augmentation"
      ],
      "metadata": {
        "id": "2E_nb64RQiwI"
      }
    },
    {
      "cell_type": "code",
      "source": [
        "# Menambahkan sedikit noise ke data sebagai augmentasi\n",
        "X_train_aug = X_train + np.random.normal(0, 0.1, X_train.shape)\n",
        "\n",
        "# Melatih ulang model dengan augmented data\n",
        "model_aug = DecisionTreeRegressor(max_depth=10, random_state=42)\n",
        "model_aug.fit(X_train_aug, y_train)\n",
        "\n",
        "# Membuat prediksi\n",
        "y_train_pred_aug = model_aug.predict(X_train_aug)\n",
        "y_test_pred_aug = model_aug.predict(X_test)\n",
        "\n",
        "# Menghitung MSE\n",
        "train_mse_aug = mean_squared_error(y_train, y_train_pred_aug)\n",
        "test_mse_aug = mean_squared_error(y_test, y_test_pred_aug)\n",
        "\n",
        "print(f'Augmented Data Training MSE: {train_mse_aug}')\n",
        "print(f'Augmented Data Test MSE: {test_mse_aug}')"
      ],
      "metadata": {
        "colab": {
          "base_uri": "https://localhost:8080/"
        },
        "id": "6WpX7F_IQkZC",
        "outputId": "44cc5ba2-06bf-4e2f-8788-095d1b00d505"
      },
      "execution_count": null,
      "outputs": [
        {
          "output_type": "stream",
          "name": "stdout",
          "text": [
            "Augmented Data Training MSE: 0.32021249384731787\n",
            "Augmented Data Test MSE: 0.5027562985135555\n"
          ]
        }
      ]
    },
    {
      "cell_type": "markdown",
      "source": [
        "# Dropout"
      ],
      "metadata": {
        "id": "qsIPUFMiQ9Gx"
      }
    },
    {
      "cell_type": "code",
      "source": [
        "from sklearn.ensemble import RandomForestRegressor\n",
        "\n",
        "# Inisialisasi Random Forests dengan n_estimators (jumlah pohon)\n",
        "model_rf = RandomForestRegressor(n_estimators=100, max_depth=10, random_state=42)\n",
        "\n",
        "# Melatih model\n",
        "model_rf.fit(X_train, y_train)\n",
        "\n",
        "# Membuat prediksi\n",
        "y_train_pred_rf = model_rf.predict(X_train)\n",
        "y_test_pred_rf = model_rf.predict(X_test)\n",
        "\n",
        "# Menghitung MSE\n",
        "train_mse_rf = mean_squared_error(y_train, y_train_pred_rf)\n",
        "test_mse_rf = mean_squared_error(y_test, y_test_pred_rf)\n",
        "\n",
        "print(f'Random Forest Training MSE: {train_mse_rf}')\n",
        "print(f'Random Forest Test MSE: {test_mse_rf}')"
      ],
      "metadata": {
        "colab": {
          "base_uri": "https://localhost:8080/"
        },
        "id": "s2Bjykx2Q-1s",
        "outputId": "5fdea28c-1d79-4c99-d2a9-9f6ab0f5b925"
      },
      "execution_count": null,
      "outputs": [
        {
          "output_type": "stream",
          "name": "stdout",
          "text": [
            "Random Forest Training MSE: 0.1694494883912745\n",
            "Random Forest Test MSE: 0.2944600120852388\n"
          ]
        }
      ]
    },
    {
      "cell_type": "markdown",
      "source": [
        "# **Underfittng**"
      ],
      "metadata": {
        "id": "rtjmNHXdRpFb"
      }
    },
    {
      "cell_type": "code",
      "source": [
        "import numpy as np\n",
        "import pandas as pd\n",
        "from sklearn.datasets import load_breast_cancer\n",
        "from sklearn.model_selection import train_test_split, learning_curve\n",
        "from sklearn.tree import DecisionTreeClassifier\n",
        "from sklearn.metrics import accuracy_score\n",
        "import matplotlib.pyplot as plt\n",
        "\n",
        "# 1. Load dataset (Breast Cancer Dataset)\n",
        "data = load_breast_cancer()\n",
        "X = pd.DataFrame(data.data, columns=data.feature_names)\n",
        "y = pd.Series(data.target)\n",
        "\n",
        "# Membagi dataset menjadi data latih dan data uji\n",
        "X_train, X_test, y_train, y_test = train_test_split(X, y, test_size=0.3, random_state=42)"
      ],
      "metadata": {
        "id": "4V4OGTYfRsYo"
      },
      "execution_count": 6,
      "outputs": []
    },
    {
      "cell_type": "code",
      "source": [
        "# 2. Model Underfitting (Decision Tree dengan max_depth rendah)\n",
        "model_underfit = DecisionTreeClassifier(max_depth=1, random_state=42)\n",
        "model_underfit.fit(X_train, y_train)"
      ],
      "metadata": {
        "colab": {
          "base_uri": "https://localhost:8080/",
          "height": 0
        },
        "id": "HdUigerpRxnW",
        "outputId": "5a7b4303-7697-4233-d4a0-19326a53e52d"
      },
      "execution_count": 7,
      "outputs": [
        {
          "output_type": "execute_result",
          "data": {
            "text/plain": [
              "DecisionTreeClassifier(max_depth=1, random_state=42)"
            ],
            "text/html": [
              "<style>#sk-container-id-1 {\n",
              "  /* Definition of color scheme common for light and dark mode */\n",
              "  --sklearn-color-text: #000;\n",
              "  --sklearn-color-text-muted: #666;\n",
              "  --sklearn-color-line: gray;\n",
              "  /* Definition of color scheme for unfitted estimators */\n",
              "  --sklearn-color-unfitted-level-0: #fff5e6;\n",
              "  --sklearn-color-unfitted-level-1: #f6e4d2;\n",
              "  --sklearn-color-unfitted-level-2: #ffe0b3;\n",
              "  --sklearn-color-unfitted-level-3: chocolate;\n",
              "  /* Definition of color scheme for fitted estimators */\n",
              "  --sklearn-color-fitted-level-0: #f0f8ff;\n",
              "  --sklearn-color-fitted-level-1: #d4ebff;\n",
              "  --sklearn-color-fitted-level-2: #b3dbfd;\n",
              "  --sklearn-color-fitted-level-3: cornflowerblue;\n",
              "\n",
              "  /* Specific color for light theme */\n",
              "  --sklearn-color-text-on-default-background: var(--sg-text-color, var(--theme-code-foreground, var(--jp-content-font-color1, black)));\n",
              "  --sklearn-color-background: var(--sg-background-color, var(--theme-background, var(--jp-layout-color0, white)));\n",
              "  --sklearn-color-border-box: var(--sg-text-color, var(--theme-code-foreground, var(--jp-content-font-color1, black)));\n",
              "  --sklearn-color-icon: #696969;\n",
              "\n",
              "  @media (prefers-color-scheme: dark) {\n",
              "    /* Redefinition of color scheme for dark theme */\n",
              "    --sklearn-color-text-on-default-background: var(--sg-text-color, var(--theme-code-foreground, var(--jp-content-font-color1, white)));\n",
              "    --sklearn-color-background: var(--sg-background-color, var(--theme-background, var(--jp-layout-color0, #111)));\n",
              "    --sklearn-color-border-box: var(--sg-text-color, var(--theme-code-foreground, var(--jp-content-font-color1, white)));\n",
              "    --sklearn-color-icon: #878787;\n",
              "  }\n",
              "}\n",
              "\n",
              "#sk-container-id-1 {\n",
              "  color: var(--sklearn-color-text);\n",
              "}\n",
              "\n",
              "#sk-container-id-1 pre {\n",
              "  padding: 0;\n",
              "}\n",
              "\n",
              "#sk-container-id-1 input.sk-hidden--visually {\n",
              "  border: 0;\n",
              "  clip: rect(1px 1px 1px 1px);\n",
              "  clip: rect(1px, 1px, 1px, 1px);\n",
              "  height: 1px;\n",
              "  margin: -1px;\n",
              "  overflow: hidden;\n",
              "  padding: 0;\n",
              "  position: absolute;\n",
              "  width: 1px;\n",
              "}\n",
              "\n",
              "#sk-container-id-1 div.sk-dashed-wrapped {\n",
              "  border: 1px dashed var(--sklearn-color-line);\n",
              "  margin: 0 0.4em 0.5em 0.4em;\n",
              "  box-sizing: border-box;\n",
              "  padding-bottom: 0.4em;\n",
              "  background-color: var(--sklearn-color-background);\n",
              "}\n",
              "\n",
              "#sk-container-id-1 div.sk-container {\n",
              "  /* jupyter's `normalize.less` sets `[hidden] { display: none; }`\n",
              "     but bootstrap.min.css set `[hidden] { display: none !important; }`\n",
              "     so we also need the `!important` here to be able to override the\n",
              "     default hidden behavior on the sphinx rendered scikit-learn.org.\n",
              "     See: https://github.com/scikit-learn/scikit-learn/issues/21755 */\n",
              "  display: inline-block !important;\n",
              "  position: relative;\n",
              "}\n",
              "\n",
              "#sk-container-id-1 div.sk-text-repr-fallback {\n",
              "  display: none;\n",
              "}\n",
              "\n",
              "div.sk-parallel-item,\n",
              "div.sk-serial,\n",
              "div.sk-item {\n",
              "  /* draw centered vertical line to link estimators */\n",
              "  background-image: linear-gradient(var(--sklearn-color-text-on-default-background), var(--sklearn-color-text-on-default-background));\n",
              "  background-size: 2px 100%;\n",
              "  background-repeat: no-repeat;\n",
              "  background-position: center center;\n",
              "}\n",
              "\n",
              "/* Parallel-specific style estimator block */\n",
              "\n",
              "#sk-container-id-1 div.sk-parallel-item::after {\n",
              "  content: \"\";\n",
              "  width: 100%;\n",
              "  border-bottom: 2px solid var(--sklearn-color-text-on-default-background);\n",
              "  flex-grow: 1;\n",
              "}\n",
              "\n",
              "#sk-container-id-1 div.sk-parallel {\n",
              "  display: flex;\n",
              "  align-items: stretch;\n",
              "  justify-content: center;\n",
              "  background-color: var(--sklearn-color-background);\n",
              "  position: relative;\n",
              "}\n",
              "\n",
              "#sk-container-id-1 div.sk-parallel-item {\n",
              "  display: flex;\n",
              "  flex-direction: column;\n",
              "}\n",
              "\n",
              "#sk-container-id-1 div.sk-parallel-item:first-child::after {\n",
              "  align-self: flex-end;\n",
              "  width: 50%;\n",
              "}\n",
              "\n",
              "#sk-container-id-1 div.sk-parallel-item:last-child::after {\n",
              "  align-self: flex-start;\n",
              "  width: 50%;\n",
              "}\n",
              "\n",
              "#sk-container-id-1 div.sk-parallel-item:only-child::after {\n",
              "  width: 0;\n",
              "}\n",
              "\n",
              "/* Serial-specific style estimator block */\n",
              "\n",
              "#sk-container-id-1 div.sk-serial {\n",
              "  display: flex;\n",
              "  flex-direction: column;\n",
              "  align-items: center;\n",
              "  background-color: var(--sklearn-color-background);\n",
              "  padding-right: 1em;\n",
              "  padding-left: 1em;\n",
              "}\n",
              "\n",
              "\n",
              "/* Toggleable style: style used for estimator/Pipeline/ColumnTransformer box that is\n",
              "clickable and can be expanded/collapsed.\n",
              "- Pipeline and ColumnTransformer use this feature and define the default style\n",
              "- Estimators will overwrite some part of the style using the `sk-estimator` class\n",
              "*/\n",
              "\n",
              "/* Pipeline and ColumnTransformer style (default) */\n",
              "\n",
              "#sk-container-id-1 div.sk-toggleable {\n",
              "  /* Default theme specific background. It is overwritten whether we have a\n",
              "  specific estimator or a Pipeline/ColumnTransformer */\n",
              "  background-color: var(--sklearn-color-background);\n",
              "}\n",
              "\n",
              "/* Toggleable label */\n",
              "#sk-container-id-1 label.sk-toggleable__label {\n",
              "  cursor: pointer;\n",
              "  display: flex;\n",
              "  width: 100%;\n",
              "  margin-bottom: 0;\n",
              "  padding: 0.5em;\n",
              "  box-sizing: border-box;\n",
              "  text-align: center;\n",
              "  align-items: start;\n",
              "  justify-content: space-between;\n",
              "  gap: 0.5em;\n",
              "}\n",
              "\n",
              "#sk-container-id-1 label.sk-toggleable__label .caption {\n",
              "  font-size: 0.6rem;\n",
              "  font-weight: lighter;\n",
              "  color: var(--sklearn-color-text-muted);\n",
              "}\n",
              "\n",
              "#sk-container-id-1 label.sk-toggleable__label-arrow:before {\n",
              "  /* Arrow on the left of the label */\n",
              "  content: \"▸\";\n",
              "  float: left;\n",
              "  margin-right: 0.25em;\n",
              "  color: var(--sklearn-color-icon);\n",
              "}\n",
              "\n",
              "#sk-container-id-1 label.sk-toggleable__label-arrow:hover:before {\n",
              "  color: var(--sklearn-color-text);\n",
              "}\n",
              "\n",
              "/* Toggleable content - dropdown */\n",
              "\n",
              "#sk-container-id-1 div.sk-toggleable__content {\n",
              "  max-height: 0;\n",
              "  max-width: 0;\n",
              "  overflow: hidden;\n",
              "  text-align: left;\n",
              "  /* unfitted */\n",
              "  background-color: var(--sklearn-color-unfitted-level-0);\n",
              "}\n",
              "\n",
              "#sk-container-id-1 div.sk-toggleable__content.fitted {\n",
              "  /* fitted */\n",
              "  background-color: var(--sklearn-color-fitted-level-0);\n",
              "}\n",
              "\n",
              "#sk-container-id-1 div.sk-toggleable__content pre {\n",
              "  margin: 0.2em;\n",
              "  border-radius: 0.25em;\n",
              "  color: var(--sklearn-color-text);\n",
              "  /* unfitted */\n",
              "  background-color: var(--sklearn-color-unfitted-level-0);\n",
              "}\n",
              "\n",
              "#sk-container-id-1 div.sk-toggleable__content.fitted pre {\n",
              "  /* unfitted */\n",
              "  background-color: var(--sklearn-color-fitted-level-0);\n",
              "}\n",
              "\n",
              "#sk-container-id-1 input.sk-toggleable__control:checked~div.sk-toggleable__content {\n",
              "  /* Expand drop-down */\n",
              "  max-height: 200px;\n",
              "  max-width: 100%;\n",
              "  overflow: auto;\n",
              "}\n",
              "\n",
              "#sk-container-id-1 input.sk-toggleable__control:checked~label.sk-toggleable__label-arrow:before {\n",
              "  content: \"▾\";\n",
              "}\n",
              "\n",
              "/* Pipeline/ColumnTransformer-specific style */\n",
              "\n",
              "#sk-container-id-1 div.sk-label input.sk-toggleable__control:checked~label.sk-toggleable__label {\n",
              "  color: var(--sklearn-color-text);\n",
              "  background-color: var(--sklearn-color-unfitted-level-2);\n",
              "}\n",
              "\n",
              "#sk-container-id-1 div.sk-label.fitted input.sk-toggleable__control:checked~label.sk-toggleable__label {\n",
              "  background-color: var(--sklearn-color-fitted-level-2);\n",
              "}\n",
              "\n",
              "/* Estimator-specific style */\n",
              "\n",
              "/* Colorize estimator box */\n",
              "#sk-container-id-1 div.sk-estimator input.sk-toggleable__control:checked~label.sk-toggleable__label {\n",
              "  /* unfitted */\n",
              "  background-color: var(--sklearn-color-unfitted-level-2);\n",
              "}\n",
              "\n",
              "#sk-container-id-1 div.sk-estimator.fitted input.sk-toggleable__control:checked~label.sk-toggleable__label {\n",
              "  /* fitted */\n",
              "  background-color: var(--sklearn-color-fitted-level-2);\n",
              "}\n",
              "\n",
              "#sk-container-id-1 div.sk-label label.sk-toggleable__label,\n",
              "#sk-container-id-1 div.sk-label label {\n",
              "  /* The background is the default theme color */\n",
              "  color: var(--sklearn-color-text-on-default-background);\n",
              "}\n",
              "\n",
              "/* On hover, darken the color of the background */\n",
              "#sk-container-id-1 div.sk-label:hover label.sk-toggleable__label {\n",
              "  color: var(--sklearn-color-text);\n",
              "  background-color: var(--sklearn-color-unfitted-level-2);\n",
              "}\n",
              "\n",
              "/* Label box, darken color on hover, fitted */\n",
              "#sk-container-id-1 div.sk-label.fitted:hover label.sk-toggleable__label.fitted {\n",
              "  color: var(--sklearn-color-text);\n",
              "  background-color: var(--sklearn-color-fitted-level-2);\n",
              "}\n",
              "\n",
              "/* Estimator label */\n",
              "\n",
              "#sk-container-id-1 div.sk-label label {\n",
              "  font-family: monospace;\n",
              "  font-weight: bold;\n",
              "  display: inline-block;\n",
              "  line-height: 1.2em;\n",
              "}\n",
              "\n",
              "#sk-container-id-1 div.sk-label-container {\n",
              "  text-align: center;\n",
              "}\n",
              "\n",
              "/* Estimator-specific */\n",
              "#sk-container-id-1 div.sk-estimator {\n",
              "  font-family: monospace;\n",
              "  border: 1px dotted var(--sklearn-color-border-box);\n",
              "  border-radius: 0.25em;\n",
              "  box-sizing: border-box;\n",
              "  margin-bottom: 0.5em;\n",
              "  /* unfitted */\n",
              "  background-color: var(--sklearn-color-unfitted-level-0);\n",
              "}\n",
              "\n",
              "#sk-container-id-1 div.sk-estimator.fitted {\n",
              "  /* fitted */\n",
              "  background-color: var(--sklearn-color-fitted-level-0);\n",
              "}\n",
              "\n",
              "/* on hover */\n",
              "#sk-container-id-1 div.sk-estimator:hover {\n",
              "  /* unfitted */\n",
              "  background-color: var(--sklearn-color-unfitted-level-2);\n",
              "}\n",
              "\n",
              "#sk-container-id-1 div.sk-estimator.fitted:hover {\n",
              "  /* fitted */\n",
              "  background-color: var(--sklearn-color-fitted-level-2);\n",
              "}\n",
              "\n",
              "/* Specification for estimator info (e.g. \"i\" and \"?\") */\n",
              "\n",
              "/* Common style for \"i\" and \"?\" */\n",
              "\n",
              ".sk-estimator-doc-link,\n",
              "a:link.sk-estimator-doc-link,\n",
              "a:visited.sk-estimator-doc-link {\n",
              "  float: right;\n",
              "  font-size: smaller;\n",
              "  line-height: 1em;\n",
              "  font-family: monospace;\n",
              "  background-color: var(--sklearn-color-background);\n",
              "  border-radius: 1em;\n",
              "  height: 1em;\n",
              "  width: 1em;\n",
              "  text-decoration: none !important;\n",
              "  margin-left: 0.5em;\n",
              "  text-align: center;\n",
              "  /* unfitted */\n",
              "  border: var(--sklearn-color-unfitted-level-1) 1pt solid;\n",
              "  color: var(--sklearn-color-unfitted-level-1);\n",
              "}\n",
              "\n",
              ".sk-estimator-doc-link.fitted,\n",
              "a:link.sk-estimator-doc-link.fitted,\n",
              "a:visited.sk-estimator-doc-link.fitted {\n",
              "  /* fitted */\n",
              "  border: var(--sklearn-color-fitted-level-1) 1pt solid;\n",
              "  color: var(--sklearn-color-fitted-level-1);\n",
              "}\n",
              "\n",
              "/* On hover */\n",
              "div.sk-estimator:hover .sk-estimator-doc-link:hover,\n",
              ".sk-estimator-doc-link:hover,\n",
              "div.sk-label-container:hover .sk-estimator-doc-link:hover,\n",
              ".sk-estimator-doc-link:hover {\n",
              "  /* unfitted */\n",
              "  background-color: var(--sklearn-color-unfitted-level-3);\n",
              "  color: var(--sklearn-color-background);\n",
              "  text-decoration: none;\n",
              "}\n",
              "\n",
              "div.sk-estimator.fitted:hover .sk-estimator-doc-link.fitted:hover,\n",
              ".sk-estimator-doc-link.fitted:hover,\n",
              "div.sk-label-container:hover .sk-estimator-doc-link.fitted:hover,\n",
              ".sk-estimator-doc-link.fitted:hover {\n",
              "  /* fitted */\n",
              "  background-color: var(--sklearn-color-fitted-level-3);\n",
              "  color: var(--sklearn-color-background);\n",
              "  text-decoration: none;\n",
              "}\n",
              "\n",
              "/* Span, style for the box shown on hovering the info icon */\n",
              ".sk-estimator-doc-link span {\n",
              "  display: none;\n",
              "  z-index: 9999;\n",
              "  position: relative;\n",
              "  font-weight: normal;\n",
              "  right: .2ex;\n",
              "  padding: .5ex;\n",
              "  margin: .5ex;\n",
              "  width: min-content;\n",
              "  min-width: 20ex;\n",
              "  max-width: 50ex;\n",
              "  color: var(--sklearn-color-text);\n",
              "  box-shadow: 2pt 2pt 4pt #999;\n",
              "  /* unfitted */\n",
              "  background: var(--sklearn-color-unfitted-level-0);\n",
              "  border: .5pt solid var(--sklearn-color-unfitted-level-3);\n",
              "}\n",
              "\n",
              ".sk-estimator-doc-link.fitted span {\n",
              "  /* fitted */\n",
              "  background: var(--sklearn-color-fitted-level-0);\n",
              "  border: var(--sklearn-color-fitted-level-3);\n",
              "}\n",
              "\n",
              ".sk-estimator-doc-link:hover span {\n",
              "  display: block;\n",
              "}\n",
              "\n",
              "/* \"?\"-specific style due to the `<a>` HTML tag */\n",
              "\n",
              "#sk-container-id-1 a.estimator_doc_link {\n",
              "  float: right;\n",
              "  font-size: 1rem;\n",
              "  line-height: 1em;\n",
              "  font-family: monospace;\n",
              "  background-color: var(--sklearn-color-background);\n",
              "  border-radius: 1rem;\n",
              "  height: 1rem;\n",
              "  width: 1rem;\n",
              "  text-decoration: none;\n",
              "  /* unfitted */\n",
              "  color: var(--sklearn-color-unfitted-level-1);\n",
              "  border: var(--sklearn-color-unfitted-level-1) 1pt solid;\n",
              "}\n",
              "\n",
              "#sk-container-id-1 a.estimator_doc_link.fitted {\n",
              "  /* fitted */\n",
              "  border: var(--sklearn-color-fitted-level-1) 1pt solid;\n",
              "  color: var(--sklearn-color-fitted-level-1);\n",
              "}\n",
              "\n",
              "/* On hover */\n",
              "#sk-container-id-1 a.estimator_doc_link:hover {\n",
              "  /* unfitted */\n",
              "  background-color: var(--sklearn-color-unfitted-level-3);\n",
              "  color: var(--sklearn-color-background);\n",
              "  text-decoration: none;\n",
              "}\n",
              "\n",
              "#sk-container-id-1 a.estimator_doc_link.fitted:hover {\n",
              "  /* fitted */\n",
              "  background-color: var(--sklearn-color-fitted-level-3);\n",
              "}\n",
              "</style><div id=\"sk-container-id-1\" class=\"sk-top-container\"><div class=\"sk-text-repr-fallback\"><pre>DecisionTreeClassifier(max_depth=1, random_state=42)</pre><b>In a Jupyter environment, please rerun this cell to show the HTML representation or trust the notebook. <br />On GitHub, the HTML representation is unable to render, please try loading this page with nbviewer.org.</b></div><div class=\"sk-container\" hidden><div class=\"sk-item\"><div class=\"sk-estimator fitted sk-toggleable\"><input class=\"sk-toggleable__control sk-hidden--visually\" id=\"sk-estimator-id-1\" type=\"checkbox\" checked><label for=\"sk-estimator-id-1\" class=\"sk-toggleable__label fitted sk-toggleable__label-arrow\"><div><div>DecisionTreeClassifier</div></div><div><a class=\"sk-estimator-doc-link fitted\" rel=\"noreferrer\" target=\"_blank\" href=\"https://scikit-learn.org/1.6/modules/generated/sklearn.tree.DecisionTreeClassifier.html\">?<span>Documentation for DecisionTreeClassifier</span></a><span class=\"sk-estimator-doc-link fitted\">i<span>Fitted</span></span></div></label><div class=\"sk-toggleable__content fitted\"><pre>DecisionTreeClassifier(max_depth=1, random_state=42)</pre></div> </div></div></div></div>"
            ]
          },
          "metadata": {},
          "execution_count": 7
        }
      ]
    },
    {
      "cell_type": "code",
      "source": [
        "# Prediksi\n",
        "y_train_pred_underfit = model_underfit.predict(X_train)\n",
        "y_test_pred_underfit = model_underfit.predict(X_test)"
      ],
      "metadata": {
        "id": "TdhOwclgR3XA"
      },
      "execution_count": 8,
      "outputs": []
    },
    {
      "cell_type": "code",
      "source": [
        "# Evaluasi performa pada data latih dan uji\n",
        "train_acc_underfit = accuracy_score(y_train, y_train_pred_underfit)\n",
        "test_acc_underfit = accuracy_score(y_test, y_test_pred_underfit)\n",
        "\n",
        "print(f\"Underfit Model Training Accuracy: {train_acc_underfit}\")\n",
        "print(f\"Underfit Model Test Accuracy: {test_acc_underfit}\")"
      ],
      "metadata": {
        "colab": {
          "base_uri": "https://localhost:8080/"
        },
        "id": "JrHToV8gR5jN",
        "outputId": "43b218eb-82a3-4629-c86d-a4ddc7c67f96"
      },
      "execution_count": 9,
      "outputs": [
        {
          "output_type": "stream",
          "name": "stdout",
          "text": [
            "Underfit Model Training Accuracy: 0.9246231155778895\n",
            "Underfit Model Test Accuracy: 0.8947368421052632\n"
          ]
        }
      ]
    },
    {
      "cell_type": "markdown",
      "source": [
        "**Learning Curve**"
      ],
      "metadata": {
        "id": "qLBi1Tl9SE23"
      }
    },
    {
      "cell_type": "code",
      "source": [
        "# Learning Curve untuk memeriksa performa pada berbagai ukuran data latih\n",
        "train_sizes, train_scores, test_scores = learning_curve(model_underfit, X_train, y_train, cv=5, scoring='accuracy', train_sizes=np.linspace(0.1, 1.0, 10))\n",
        "\n",
        "train_scores_mean = np.mean(train_scores, axis=1)\n",
        "test_scores_mean = np.mean(test_scores, axis=1)\n",
        "\n",
        "# Plot Learning Curve\n",
        "plt.figure()\n",
        "plt.plot(train_sizes, train_scores_mean, label='Training score')\n",
        "plt.plot(train_sizes, test_scores_mean, label='Validation score')\n",
        "plt.ylabel('Accuracy')\n",
        "plt.xlabel('Training Set Size')\n",
        "plt.title('Learning Curve (Underfitting)')\n",
        "plt.legend()\n",
        "plt.grid(True)\n",
        "plt.show()"
      ],
      "metadata": {
        "colab": {
          "base_uri": "https://localhost:8080/",
          "height": 0
        },
        "id": "HOO0z1WHSJSG",
        "outputId": "6b944d0c-f54d-46dc-d26c-d85f142f851d"
      },
      "execution_count": 10,
      "outputs": [
        {
          "output_type": "display_data",
          "data": {
            "text/plain": [
              "<Figure size 640x480 with 1 Axes>"
            ],
            "image/png": "[encoded data removed]"
          },
          "metadata": {}
        }
      ]
    },
    {
      "cell_type": "code",
      "source": [
        "# Membandingkan dengan model yang lebih kompleks (e.g., max_depth=5)\n",
        "model_complex = DecisionTreeClassifier(max_depth=5, random_state=42)\n",
        "model_complex.fit(X_train, y_train)\n",
        "\n",
        "y_train_pred_complex = model_complex.predict(X_train)\n",
        "y_test_pred_complex = model_complex.predict(X_test)\n",
        "\n",
        "train_acc_complex = accuracy_score(y_train, y_train_pred_complex)\n",
        "test_acc_complex = accuracy_score(y_test, y_test_pred_complex)\n",
        "\n",
        "print(f\"Complex Model Training Accuracy: {train_acc_complex}\")\n",
        "print(f\"Complex Model Test Accuracy: {test_acc_complex}\")"
      ],
      "metadata": {
        "colab": {
          "base_uri": "https://localhost:8080/"
        },
        "id": "a3icnUasSQiH",
        "outputId": "2a151dcd-9e5c-4729-8b97-a9c11b0cbeaa"
      },
      "execution_count": 11,
      "outputs": [
        {
          "output_type": "stream",
          "name": "stdout",
          "text": [
            "Complex Model Training Accuracy: 0.9949748743718593\n",
            "Complex Model Test Accuracy: 0.9532163742690059\n"
          ]
        }
      ]
    },
    {
      "cell_type": "markdown",
      "source": [
        "# Model yang lebih kompleks"
      ],
      "metadata": {
        "id": "Os0C00J0S5Tr"
      }
    },
    {
      "cell_type": "code",
      "source": [
        "from sklearn.tree import DecisionTreeClassifier\n",
        "from sklearn.metrics import accuracy_score\n",
        "\n",
        "# Menggunakan model yang lebih kompleks dengan max_depth lebih besar\n",
        "complex_model = DecisionTreeClassifier(max_depth=10, random_state=42)\n",
        "complex_model.fit(X_train, y_train)\n",
        "\n",
        "# Prediksi pada data latih dan uji\n",
        "y_train_pred_complex = complex_model.predict(X_train)\n",
        "y_test_pred_complex = complex_model.predict(X_test)\n",
        "\n",
        "# Evaluasi performa\n",
        "train_acc_complex = accuracy_score(y_train, y_train_pred_complex)\n",
        "test_acc_complex = accuracy_score(y_test, y_test_pred_complex)\n",
        "\n",
        "print(f\"Training Accuracy (Complex Model): {train_acc_complex}\")\n",
        "print(f\"Test Accuracy (Complex Model): {test_acc_complex}\")"
      ],
      "metadata": {
        "colab": {
          "base_uri": "https://localhost:8080/"
        },
        "id": "o1kKYCc3SXIi",
        "outputId": "b620b49d-6f3a-40a5-81e5-d944ec8d6929"
      },
      "execution_count": null,
      "outputs": [
        {
          "output_type": "stream",
          "name": "stdout",
          "text": [
            "Training Accuracy (Complex Model): 1.0\n",
            "Test Accuracy (Complex Model): 0.9415204678362573\n"
          ]
        }
      ]
    },
    {
      "cell_type": "markdown",
      "source": [
        "# Feature Engineering dengan PCA"
      ],
      "metadata": {
        "id": "p1NVnGcWSxMC"
      }
    },
    {
      "cell_type": "code",
      "source": [
        "from sklearn.decomposition import PCA\n",
        "from sklearn.preprocessing import StandardScaler\n",
        "\n",
        "# Normalisasi data\n",
        "scaler = StandardScaler()\n",
        "X_scaled = scaler.fit_transform(X)\n",
        "\n",
        "# PCA untuk mengurangi dimensi atau menghasilkan fitur baru\n",
        "pca = PCA(n_components=5)  # Menghasilkan fitur baru dari data asli\n",
        "X_pca = pca.fit_transform(X_scaled)\n",
        "\n",
        "# Membagi data menjadi data latih dan data uji\n",
        "X_train_pca, X_test_pca, y_train_pca, y_test_pca = train_test_split(X_pca, y, test_size=0.3, random_state=42)\n",
        "\n",
        "# Model dengan fitur hasil PCA\n",
        "complex_model_pca = DecisionTreeClassifier(max_depth=10, random_state=42)\n",
        "complex_model_pca.fit(X_train_pca, y_train_pca)\n",
        "\n",
        "# Prediksi pada data latih dan uji\n",
        "y_train_pred_pca = complex_model_pca.predict(X_train_pca)\n",
        "y_test_pred_pca = complex_model_pca.predict(X_test_pca)\n",
        "\n",
        "# Evaluasi performa\n",
        "train_acc_pca = accuracy_score(y_train_pca, y_train_pred_pca)\n",
        "test_acc_pca = accuracy_score(y_test_pca, y_test_pred_pca)\n",
        "\n",
        "print(f\"Training Accuracy (PCA): {train_acc_pca}\")\n",
        "print(f\"Test Accuracy (PCA): {test_acc_pca}\")"
      ],
      "metadata": {
        "colab": {
          "base_uri": "https://localhost:8080/"
        },
        "id": "dD_r5ploSk6v",
        "outputId": "7b040f01-e3b9-494a-e43e-497b79d891ff"
      },
      "execution_count": null,
      "outputs": [
        {
          "output_type": "stream",
          "name": "stdout",
          "text": [
            "Training Accuracy (PCA): 1.0\n",
            "Test Accuracy (PCA): 0.9415204678362573\n"
          ]
        }
      ]
    },
    {
      "cell_type": "markdown",
      "source": [
        "# Hyperparameter Tuning Menggunakan GridSearchCV"
      ],
      "metadata": {
        "id": "k3-Az3HtTNqF"
      }
    },
    {
      "cell_type": "code",
      "source": [
        "from sklearn.model_selection import GridSearchCV\n",
        "\n",
        "# Grid Search untuk hyperparameter tuning\n",
        "param_grid = {\n",
        "    'max_depth': [5, 10, 15],\n",
        "    'min_samples_split': [2, 5, 10],\n",
        "    'min_samples_leaf': [1, 2, 4]\n",
        "}\n",
        "\n",
        "grid_search = GridSearchCV(estimator=DecisionTreeClassifier(random_state=42),\n",
        "                           param_grid=param_grid, cv=5, scoring='accuracy')\n",
        "\n",
        "# Melakukan pencarian hyperparameter terbaik\n",
        "grid_search.fit(X_train, y_train)\n",
        "\n",
        "# Hyperparameter terbaik\n",
        "best_params = grid_search.best_params_\n",
        "best_model = grid_search.best_estimator_\n",
        "\n",
        "# Prediksi dengan model terbaik\n",
        "y_train_pred_best = best_model.predict(X_train)\n",
        "y_test_pred_best = best_model.predict(X_test)\n",
        "\n",
        "# Evaluasi performa\n",
        "train_acc_best = accuracy_score(y_train, y_train_pred_best)\n",
        "test_acc_best = accuracy_score(y_test, y_test_pred_best)\n",
        "\n",
        "print(f\"Training Accuracy (Best Model): {train_acc_best}\")\n",
        "print(f\"Test Accuracy (Best Model): {test_acc_best}\")\n",
        "print(f\"Best Params: {best_params}\")"
      ],
      "metadata": {
        "colab": {
          "base_uri": "https://localhost:8080/"
        },
        "id": "YwEkuscqTGZo",
        "outputId": "c830e00d-647b-4978-94e4-7b310608f19d"
      },
      "execution_count": null,
      "outputs": [
        {
          "output_type": "stream",
          "name": "stdout",
          "text": [
            "Training Accuracy (Best Model): 0.9949748743718593\n",
            "Test Accuracy (Best Model): 0.9532163742690059\n",
            "Best Params: {'max_depth': 5, 'min_samples_leaf': 1, 'min_samples_split': 2}\n"
          ]
        }
      ]
    },
    {
      "cell_type": "markdown",
      "source": [
        "# Perbaiki Preprocessing Data"
      ],
      "metadata": {
        "id": "268wL0EbTZRH"
      }
    },
    {
      "cell_type": "code",
      "source": [
        "# Melakukan normalisasi ulang dengan scaler\n",
        "scaler = StandardScaler()\n",
        "X_scaled_new = scaler.fit_transform(X)\n",
        "\n",
        "# Membagi ulang data latih dan uji\n",
        "X_train_scaled, X_test_scaled, y_train_scaled, y_test_scaled = train_test_split(X_scaled_new, y, test_size=0.3, random_state=42)\n",
        "\n",
        "# Model setelah preprocessing data lebih baik\n",
        "model_after_scaling = DecisionTreeClassifier(max_depth=10, random_state=42)\n",
        "model_after_scaling.fit(X_train_scaled, y_train_scaled)\n",
        "\n",
        "# Prediksi\n",
        "y_train_pred_scaled = model_after_scaling.predict(X_train_scaled)\n",
        "y_test_pred_scaled = model_after_scaling.predict(X_test_scaled)\n",
        "\n",
        "# Evaluasi performa\n",
        "train_acc_scaled = accuracy_score(y_train_scaled, y_train_pred_scaled)\n",
        "test_acc_scaled = accuracy_score(y_test_scaled, y_test_pred_scaled)\n",
        "\n",
        "print(f\"Training Accuracy (After Scaling): {train_acc_scaled}\")\n",
        "print(f\"Test Accuracy (After Scaling): {test_acc_scaled}\")"
      ],
      "metadata": {
        "colab": {
          "base_uri": "https://localhost:8080/"
        },
        "id": "XXP0268VTbQK",
        "outputId": "6657d698-39e0-4e9d-fb03-4c37649d3dea"
      },
      "execution_count": null,
      "outputs": [
        {
          "output_type": "stream",
          "name": "stdout",
          "text": [
            "Training Accuracy (After Scaling): 1.0\n",
            "Test Accuracy (After Scaling): 0.9415204678362573\n"
          ]
        }
      ]
    },
    {
      "cell_type": "markdown",
      "source": [
        "# Tambahkan Data Latih"
      ],
      "metadata": {
        "id": "52fr65_uTfjY"
      }
    },
    {
      "cell_type": "code",
      "source": [
        "# Membagi ulang data dengan lebih banyak data latih (menambah ukuran training set)\n",
        "X_train_more_data, X_test_less_data, y_train_more_data, y_test_less_data = train_test_split(X_scaled, y, test_size=0.2, random_state=42)\n",
        "\n",
        "# Model dengan lebih banyak data latih\n",
        "model_more_data = DecisionTreeClassifier(max_depth=10, random_state=42)\n",
        "model_more_data.fit(X_train_more_data, y_train_more_data)\n",
        "\n",
        "# Prediksi\n",
        "y_train_pred_more_data = model_more_data.predict(X_train_more_data)\n",
        "y_test_pred_more_data = model_more_data.predict(X_test_less_data)\n",
        "\n",
        "# Evaluasi performa\n",
        "train_acc_more_data = accuracy_score(y_train_more_data, y_train_pred_more_data)\n",
        "test_acc_more_data = accuracy_score(y_test_less_data, y_test_pred_more_data)\n",
        "\n",
        "print(f\"Training Accuracy (More Data): {train_acc_more_data}\")\n",
        "print(f\"Test Accuracy (More Data): {test_acc_more_data}\")"
      ],
      "metadata": {
        "colab": {
          "base_uri": "https://localhost:8080/"
        },
        "id": "jNSazSY1TfS4",
        "outputId": "af4bfffd-5c84-443a-a5e0-3f2b65576f41"
      },
      "execution_count": null,
      "outputs": [
        {
          "output_type": "stream",
          "name": "stdout",
          "text": [
            "Training Accuracy (More Data): 1.0\n",
            "Test Accuracy (More Data): 0.9473684210526315\n"
          ]
        }
      ]
    }
  ]
}